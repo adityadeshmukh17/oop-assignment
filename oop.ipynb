{
 "cells": [
  {
   "cell_type": "code",
   "execution_count": 3,
   "id": "35ce86b2-c2a4-48ab-9b89-539d350cf3c4",
   "metadata": {},
   "outputs": [
    {
     "name": "stdin",
     "output_type": "stream",
     "text": [
      "enter name of vehicle vs\n",
      "give max speed 2\n",
      "give avg 5\n"
     ]
    },
    {
     "name": "stdout",
     "output_type": "stream",
     "text": [
      "vs\n",
      "2\n",
      "5\n"
     ]
    }
   ],
   "source": [
    "# # Q1, Create a vehicle class with an init method having instance variables as name_of_vehicle, max_speed\n",
    "# # and average_of_vehicle.\n",
    "class vehicle:\n",
    "    def __init__(self,name_of_vehicle, max_speed,average_of_vehicle):\n",
    "        self.name_of_vehicle=name_of_vehicle\n",
    "        self.max_speed=max_speed\n",
    "        self.average_of_vehicle=average_of_vehicle\n",
    "    def getans(self):\n",
    "        return self.name_of_vehicle,self.max_speed,self.average_of_vehicle\n",
    "a=input('enter name of vehicle')\n",
    "b=int(input('give max speed'))\n",
    "c=int(input('give avg'))    \n",
    "\n",
    "\n",
    "d=vehicle(a,b,c)\n",
    "s=d.getans()\n",
    "for i in s:\n",
    "    print(i)"
   ]
  },
  {
   "cell_type": "code",
   "execution_count": null,
   "id": "614f2c50-c74b-4ad2-be8b-f26eefeb7182",
   "metadata": {},
   "outputs": [],
   "source": [
    "# Q2. Create a child class car from the vehicle class created in Que 1, which will inherit the vehicle class.\n",
    "# Create a method named seating_capacity which takes capacity as an argument and returns the name of\n",
    "# the vehicle and its seating capacity."
   ]
  },
  {
   "cell_type": "code",
   "execution_count": 4,
   "id": "109e1f1b-fbdd-40aa-8a7f-e96811a0ec4d",
   "metadata": {},
   "outputs": [
    {
     "name": "stdin",
     "output_type": "stream",
     "text": [
      "enter greater than 1 and less than 6 4\n"
     ]
    },
    {
     "name": "stdout",
     "output_type": "stream",
     "text": [
      "4\n",
      "bmw\n"
     ]
    }
   ],
   "source": [
    "class car(vehicle):\n",
    "    def __init__(self,capacity,t,y,u):\n",
    "        self.seating_capacity=capacity\n",
    "        vehicle.__init__(self,t,y,u)\n",
    "    def return1(self):\n",
    "        print(self.seating_capacity)\n",
    "        return self.getans()\n",
    "    \n",
    "c=int(input('enter greater than 1 and less than 6'))  \n",
    "f=car(c,'bmw',0,0)\n",
    "for i in f.return1():\n",
    "    if i==0:\n",
    "        continue\n",
    "    else:\n",
    "        print(i)"
   ]
  },
  {
   "cell_type": "code",
   "execution_count": null,
   "id": "cfd2d235-1a0f-4033-8b9a-aaeec128690f",
   "metadata": {},
   "outputs": [],
   "source": [
    "# Q3. What is multiple inheritance? Write a python code to demonstrate multiple inheritance.\\"
   ]
  },
  {
   "cell_type": "code",
   "execution_count": 5,
   "id": "8125c0d9-3e0d-4be2-b209-54c9b4fd3168",
   "metadata": {},
   "outputs": [
    {
     "name": "stdout",
     "output_type": "stream",
     "text": [
      "-15\n"
     ]
    }
   ],
   "source": [
    "\n",
    "class add:\n",
    "    def __init__(self, a, b):\n",
    "        self.a = a\n",
    "        self.b = b\n",
    "        \n",
    "    def c(self):\n",
    "        return self.a + self.b\n",
    "\n",
    "class multiply:\n",
    "    def __init__(self, p, q):\n",
    "        self.p = p\n",
    "        self.q = q\n",
    "        \n",
    "    def d(self):\n",
    "        return self.p * self.q\n",
    "\n",
    "class p2(add, multiply):\n",
    "    def __init__(self, a, b,c,d):\n",
    "        add.__init__(self,a,b)\n",
    "        multiply.__init__(self,c,d)\n",
    "    def return1(self):\n",
    "        return self.c()- self.d()\n",
    "\n",
    "p1=p2(2,3,4,5)\n",
    "print(p1.return1())"
   ]
  },
  {
   "cell_type": "code",
   "execution_count": null,
   "id": "77220686-ce3b-43f7-b1d8-c6501a7eb9cf",
   "metadata": {},
   "outputs": [],
   "source": [
    " #Q4. What are getter and setter in python? Create a class and create a getter and a setter method in this\n",
    "# class."
   ]
  },
  {
   "cell_type": "code",
   "execution_count": null,
   "id": "61fab853-ab4b-4b4a-862c-816dce46491c",
   "metadata": {},
   "outputs": [],
   "source": [
    "# getter and setter are the description to the property decorator func used to get the say any variable of class value or set it."
   ]
  },
  {
   "cell_type": "code",
   "execution_count": 6,
   "id": "b6037678-1566-443a-8ac1-72b495298d20",
   "metadata": {},
   "outputs": [
    {
     "name": "stdout",
     "output_type": "stream",
     "text": [
      "data\n",
      "alakh pandey\n"
     ]
    }
   ],
   "source": [
    "class platform:\n",
    "    def __init__(self,p,q):\n",
    "        self.__batchname=p\n",
    "        self.__mentor=q\n",
    "    @property\n",
    "    def getbatch(self):\n",
    "        return self.__batchname\n",
    "    # setting mentor to alakh pandey\n",
    "    @getbatch.setter\n",
    "    def settter(self,c):\n",
    "        self.__mentor=c\n",
    "    # getting mentor name\n",
    "    @getbatch.getter\n",
    "    def get(self):\n",
    "        return self.__mentor\n",
    "p=platform('data','abhi')\n",
    "print(p.getbatch)\n",
    "p.settter='alakh pandey'\n",
    "print(p.get)\n"
   ]
  }
 ],
 "metadata": {
  "kernelspec": {
   "display_name": "Python 3 (ipykernel)",
   "language": "python",
   "name": "python3"
  },
  "language_info": {
   "codemirror_mode": {
    "name": "ipython",
    "version": 3
   },
   "file_extension": ".py",
   "mimetype": "text/x-python",
   "name": "python",
   "nbconvert_exporter": "python",
   "pygments_lexer": "ipython3",
   "version": "3.10.8"
  }
 },
 "nbformat": 4,
 "nbformat_minor": 5
}
